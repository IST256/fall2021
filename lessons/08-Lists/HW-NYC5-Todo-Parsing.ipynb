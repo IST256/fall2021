{
 "cells": [
  {
   "cell_type": "markdown",
   "metadata": {},
   "source": [
    "# Now You Code 5: The TODO List\n",
    "\n",
    "In this assignment we write a simple TODO list program in Python. The user interface for out TODO list app will be a basic text parser. So for example if you want to add an item to your TODO list called `clean my room`, you would type: `add todo clean my room`. \n",
    "\n",
    "Here's a summary of the commands understood by our parser:\n",
    "\n",
    "- `add todo-item` add an item to the TODO list.\n",
    "- `del todo-item` removes an item from the TODO list. \n",
    "- `show` shows items on the TODO list\n",
    "- `quit` exits the program loop.\n",
    "\n",
    "One again, we will apply problem simplification and work on this problem in 3 parts.\n",
    "\n",
    "1. In Part 1 we will create the command parser loop first.\n",
    "2. In Part 2 we code the `add`, `del` and `show` commands.\n"
   ]
  },
  {
   "cell_type": "markdown",
   "metadata": {},
   "source": [
    "## Part 1: Step 1: Problem Analysis\n",
    "\n",
    "Implement the provided algorithm as code.\n",
    "\n",
    "Inputs: a command string\n",
    "\n",
    "Outputs: print the command (if valid), or print \"invalid command\" or quit program\n",
    "\n",
    "Algorithm (Steps in Program):\n",
    "\n",
    "```\n",
    "loop\n",
    "    input command\n",
    "    extract first word from command\n",
    "    if word equals \"quit\" exit loop\n",
    "    if word equals \"add\"\n",
    "       extract item from command\n",
    "       print \"code to add item to todo list goes here\"\n",
    "    else if word equals \"del\"\n",
    "       extract item from command\n",
    "       print \"code to remove item from todo list goes here\"\n",
    "    else if word equals \"show\"\n",
    "       print \"code to show items on todo list goes here\"\n",
    "    else if word equals \"save\"\n",
    "       print \"code to save todo list to file goes here\"\n",
    "    else\n",
    "      print \"invalid command\"       \n",
    "```\n"
   ]
  },
  {
   "cell_type": "code",
   "execution_count": 1,
   "metadata": {},
   "outputs": [],
   "source": [
    "# Part 1: Step 2 Write code here\n",
    "\n"
   ]
  },
  {
   "cell_type": "markdown",
   "metadata": {},
   "source": [
    "## Part 2: Step 1: problem analysis\n",
    "\n",
    "Next we will introduce the `add`, `del` and `show` functionality to the program. No longer will these commands print what they should do, they will actually get it done!\n",
    "\n",
    "Here's what you need to change in your program:\n",
    "\n",
    "1. Copy and paste your code from Part 1: Step 2 above into Part 2: Step 2 below.\n",
    "2. At the very beginning before entering the program loop  create an empty list in a variable called `todo`\n",
    "3. Code the `\"add\"` command to add the `item` to the `todo` list, and print a message saying the `item` was added.\n",
    "4. Code the `\"show\"` command to print each `item` the `todo` list using a for loop\n",
    "5. Code the `\"del\"` command to remove `item` from the list, and print a message saying `item` was deleted.\n",
    "\n",
    "\n",
    "Here's an example of the working code:\n",
    "\n",
    "```\n",
    "Enter command:  add go shopping\n",
    " go shopping added.\n",
    "Enter command:  add chop wood\n",
    " chop wood added.\n",
    "Enter command:  add eat pizza\n",
    " eat pizza added.\n",
    "Enter command:  show\n",
    "TODO list:\n",
    " go shopping\n",
    " chop wood\n",
    " eat pizza\n",
    "Enter command:  del chop wood\n",
    " chop wood deleted.\n",
    "Enter command:  show\n",
    "TODO list:\n",
    " go shopping\n",
    " eat pizza\n",
    "Enter command:  quit\n",
    "```\n",
    "\n"
   ]
  },
  {
   "cell_type": "code",
   "execution_count": 2,
   "metadata": {},
   "outputs": [],
   "source": [
    "# Part 2: Step 2 Write code here\n",
    "\n",
    "\n",
    "        "
   ]
  },
  {
   "cell_type": "markdown",
   "metadata": {},
   "source": [
    "## Step 3: Questions\n",
    "\n",
    "1. What happens when you `del` a TODO item which is not on the list? Explain specifically how we handle this error?\n",
    "\n",
    "Answer:\n",
    "\n",
    "2. Describe a strategy you can employ to save the list to a file and load it back. How would that work?\n",
    "\n",
    "Answer:\n"
   ]
  },
  {
   "cell_type": "markdown",
   "metadata": {},
   "source": [
    "## Step 4: Reflection\n",
    "\n",
    "Reflect upon your experience completing this assignment. This should be a personal narrative, in your own voice, and cite specifics relevant to the activity as to help the grader understand how you arrived at the code you submitted. Things to consider touching upon: Elaborate on the process itself. Did your original problem analysis work as designed?  How many iterations did you go through before you arrived at the solution? Where did you struggle along the way and how did you overcome it? What did you learn from completing the assignment? What do you need to work on to get better? What was most valuable and least valuable about this exercise? Do you have any suggestions for improvements?\n",
    "\n",
    "To make a good reflection, you should journal your thoughts, questions and comments while you complete the exercise.\n",
    "\n",
    "Keep your response to between 100 and 250 words.\n",
    "\n",
    "`--== Write Your Reflection Below Here ==--`\n",
    "\n"
   ]
  },
  {
   "cell_type": "code",
   "execution_count": null,
   "metadata": {},
   "outputs": [],
   "source": [
    "# SAVE YOUR WORK FIRST! CTRL+S\n",
    "# RUN THIS CODE CELL TO TURN IN YOUR WORK!\n",
    "from ist256.submission import Submission\n",
    "Submission().submit()"
   ]
  }
 ],
 "metadata": {
  "anaconda-cloud": {},
  "kernelspec": {
   "display_name": "Python 3",
   "language": "python",
   "name": "python3"
  },
  "language_info": {
   "codemirror_mode": {
    "name": "ipython",
    "version": 3
   },
   "file_extension": ".py",
   "mimetype": "text/x-python",
   "name": "python",
   "nbconvert_exporter": "python",
   "pygments_lexer": "ipython3",
   "version": "3.8.2"
  },
  "toc": {
   "base_numbering": 1,
   "nav_menu": {},
   "number_sections": false,
   "sideBar": false,
   "skip_h1_title": false,
   "title_cell": "Table of Contents",
   "title_sidebar": "Contents",
   "toc_cell": false,
   "toc_position": {},
   "toc_section_display": false,
   "toc_window_display": false
  }
 },
 "nbformat": 4,
 "nbformat_minor": 4
}
